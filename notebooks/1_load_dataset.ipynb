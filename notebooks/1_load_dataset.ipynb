{
 "cells": [
  {
   "cell_type": "code",
   "execution_count": 1,
   "id": "f09113e8",
   "metadata": {},
   "outputs": [
    {
     "name": "stderr",
     "output_type": "stream",
     "text": [
      "/home/richard/code/deHub/venv/lib/python3.9/site-packages/tqdm/auto.py:22: TqdmWarning: IProgress not found. Please update jupyter and ipywidgets. See https://ipywidgets.readthedocs.io/en/stable/user_install.html\n",
      "  from .autonotebook import tqdm as notebook_tqdm\n"
     ]
    }
   ],
   "source": [
    "import _init_paths\n",
    "from deHub.core.algorithms import create_algorithm\n",
    "from deHub.core.algorithms.ocean import OceanAlgorithms\n",
    "from deHub.core.datasets import create_dataset\n",
    "from deHub.core.datasets.ocean import OceanDatasets\n",
    "from deHub.core.utils import list_files"
   ]
  },
  {
   "cell_type": "code",
   "execution_count": null,
   "id": "840276ec",
   "metadata": {},
   "outputs": [],
   "source": []
  },
  {
   "cell_type": "code",
   "execution_count": 2,
   "id": "66171b70",
   "metadata": {},
   "outputs": [],
   "source": [
    "dataset = create_dataset(\"ocean:AlgoveraAI/cryptopunks\")"
   ]
  },
  {
   "cell_type": "code",
   "execution_count": null,
   "id": "f7a773d8",
   "metadata": {},
   "outputs": [],
   "source": []
  },
  {
   "cell_type": "code",
   "execution_count": 3,
   "id": "ee073f49",
   "metadata": {},
   "outputs": [],
   "source": [
    "datasets = OceanDatasets()"
   ]
  },
  {
   "cell_type": "code",
   "execution_count": 4,
   "id": "6b120068",
   "metadata": {},
   "outputs": [
    {
     "name": "stdout",
     "output_type": "stream",
     "text": [
      "AlgoveraAI/coco\n",
      "AlgoveraAI/cryptopunks\n",
      "AlgoveraAI/cryptopunks-download\n",
      "AlgoveraAI/imagenette\n",
      "LYNX/eeg\n",
      "nCight/arthroscopic\n"
     ]
    }
   ],
   "source": [
    "datasets.ls()"
   ]
  },
  {
   "cell_type": "code",
   "execution_count": 5,
   "id": "ad7d1491",
   "metadata": {},
   "outputs": [
    {
     "name": "stdout",
     "output_type": "stream",
     "text": [
      "Data token info = '{'address': '0xC9D0568838fa670baEe7195Ea443b32EfCAc2281', 'name': 'Powerful Shark Token', 'symbol': 'POWSHA-38', 'decimals': 18, 'cap': 1000.0}'\n",
      "Dataset name = 'CryptoPunks Images'\n"
     ]
    }
   ],
   "source": [
    "dataset = datasets.load_dataset(\"AlgoveraAI/cryptopunks\")"
   ]
  },
  {
   "cell_type": "code",
   "execution_count": 6,
   "id": "b1bcf64c",
   "metadata": {},
   "outputs": [],
   "source": [
    "# out_dir = dataset.untar_sample_data()"
   ]
  },
  {
   "cell_type": "code",
   "execution_count": 7,
   "id": "c103ecc7",
   "metadata": {},
   "outputs": [],
   "source": [
    "# list_files(out_dir)"
   ]
  },
  {
   "cell_type": "code",
   "execution_count": null,
   "id": "4c27e272",
   "metadata": {},
   "outputs": [],
   "source": []
  },
  {
   "cell_type": "code",
   "execution_count": 8,
   "id": "58dccf6d",
   "metadata": {},
   "outputs": [],
   "source": [
    "algorithms = OceanAlgorithms()"
   ]
  },
  {
   "cell_type": "code",
   "execution_count": 9,
   "id": "6112372d",
   "metadata": {},
   "outputs": [
    {
     "name": "stdout",
     "output_type": "stream",
     "text": [
      "AlgoveraAI/dcgan\n"
     ]
    }
   ],
   "source": [
    "algorithms.ls()"
   ]
  },
  {
   "cell_type": "code",
   "execution_count": 10,
   "id": "bb66ea30",
   "metadata": {},
   "outputs": [
    {
     "name": "stdout",
     "output_type": "stream",
     "text": [
      "Alg token info = '{'address': '0xE2e123115d5758Dd4C6F434E1c142e72ed8B2820', 'name': 'ARTGEN0', 'symbol': 'ARTGEN0', 'decimals': 18, 'cap': 1000.0}'\n",
      "Alg name = 'Generative Algorithm: DCGAN'\n"
     ]
    }
   ],
   "source": [
    "algorithm = algorithms.load_algorithm(\"AlgoveraAI/dcgan\")"
   ]
  },
  {
   "cell_type": "code",
   "execution_count": null,
   "id": "bbb64d89",
   "metadata": {},
   "outputs": [],
   "source": []
  },
  {
   "cell_type": "code",
   "execution_count": null,
   "id": "14e1ddbb",
   "metadata": {},
   "outputs": [],
   "source": []
  }
 ],
 "metadata": {
  "kernelspec": {
   "display_name": "Python 3",
   "language": "python",
   "name": "python3"
  },
  "language_info": {
   "codemirror_mode": {
    "name": "ipython",
    "version": 3
   },
   "file_extension": ".py",
   "mimetype": "text/x-python",
   "name": "python",
   "nbconvert_exporter": "python",
   "pygments_lexer": "ipython3",
   "version": "3.9.6"
  }
 },
 "nbformat": 4,
 "nbformat_minor": 5
}
