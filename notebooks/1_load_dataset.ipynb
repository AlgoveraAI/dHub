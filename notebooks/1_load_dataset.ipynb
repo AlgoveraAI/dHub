{
 "cells": [
  {
   "cell_type": "code",
   "execution_count": 1,
   "id": "f09113e8",
   "metadata": {},
   "outputs": [
    {
     "ename": "ModuleNotFoundError",
     "evalue": "No module named 'algorithms'",
     "output_type": "error",
     "traceback": [
      "\u001b[0;31m---------------------------------------------------------------------------\u001b[0m",
      "\u001b[0;31mModuleNotFoundError\u001b[0m                       Traceback (most recent call last)",
      "Input \u001b[0;32mIn [1]\u001b[0m, in \u001b[0;36m<cell line: 2>\u001b[0;34m()\u001b[0m\n\u001b[1;32m      1\u001b[0m \u001b[38;5;28;01mimport\u001b[39;00m \u001b[38;5;21;01m_init_paths\u001b[39;00m\n\u001b[0;32m----> 2\u001b[0m \u001b[38;5;28;01mfrom\u001b[39;00m \u001b[38;5;21;01malgorithms\u001b[39;00m \u001b[38;5;28;01mimport\u001b[39;00m Algorithms\n\u001b[1;32m      3\u001b[0m \u001b[38;5;28;01mfrom\u001b[39;00m \u001b[38;5;21;01mdatasets\u001b[39;00m \u001b[38;5;28;01mimport\u001b[39;00m Datasets\n\u001b[1;32m      4\u001b[0m \u001b[38;5;28;01mfrom\u001b[39;00m \u001b[38;5;21;01mdatasets\u001b[39;00m \u001b[38;5;28;01mimport\u001b[39;00m list_files\n",
      "\u001b[0;31mModuleNotFoundError\u001b[0m: No module named 'algorithms'"
     ]
    }
   ],
   "source": [
    "import _init_paths\n",
    "from algorithms import Algorithms\n",
    "from algovera.datasets import Datasets\n",
    "from datasets import list_files\n",
    "from user import User"
   ]
  },
  {
   "cell_type": "code",
   "execution_count": null,
   "id": "ffcc530d",
   "metadata": {},
   "outputs": [],
   "source": [
    "user = User(\"config.ini\")"
   ]
  },
  {
   "cell_type": "code",
   "execution_count": null,
   "id": "ee073f49",
   "metadata": {},
   "outputs": [],
   "source": [
    "datasets = Datasets(user)"
   ]
  },
  {
   "cell_type": "code",
   "execution_count": null,
   "id": "6b120068",
   "metadata": {},
   "outputs": [],
   "source": [
    "datasets.ls()"
   ]
  },
  {
   "cell_type": "code",
   "execution_count": null,
   "id": "ad7d1491",
   "metadata": {},
   "outputs": [],
   "source": [
    "dataset = datasets.load_dataset(\"AlgoveraAI/cryptopunks\")"
   ]
  },
  {
   "cell_type": "code",
   "execution_count": null,
   "id": "b1bcf64c",
   "metadata": {},
   "outputs": [],
   "source": [
    "out_dir = dataset.untar_sample_data()"
   ]
  },
  {
   "cell_type": "code",
   "execution_count": null,
   "id": "c103ecc7",
   "metadata": {},
   "outputs": [],
   "source": [
    "list_files(out_dir)"
   ]
  },
  {
   "cell_type": "code",
   "execution_count": null,
   "id": "4c27e272",
   "metadata": {},
   "outputs": [],
   "source": []
  },
  {
   "cell_type": "code",
   "execution_count": null,
   "id": "58dccf6d",
   "metadata": {},
   "outputs": [],
   "source": [
    "algorithms = Algorithms(user)"
   ]
  },
  {
   "cell_type": "code",
   "execution_count": null,
   "id": "6112372d",
   "metadata": {},
   "outputs": [],
   "source": [
    "algorithms.ls()"
   ]
  },
  {
   "cell_type": "code",
   "execution_count": null,
   "id": "bb66ea30",
   "metadata": {},
   "outputs": [],
   "source": [
    "algorithm = algorithms.load_algorithm(\"AlgoveraAI/dcgan\")"
   ]
  },
  {
   "cell_type": "code",
   "execution_count": null,
   "id": "bbb64d89",
   "metadata": {},
   "outputs": [],
   "source": []
  },
  {
   "cell_type": "code",
   "execution_count": null,
   "id": "9f93afbe",
   "metadata": {},
   "outputs": [],
   "source": [
    "user.check_wallet()"
   ]
  },
  {
   "cell_type": "code",
   "execution_count": null,
   "id": "14e1ddbb",
   "metadata": {},
   "outputs": [],
   "source": []
  }
 ],
 "metadata": {
  "kernelspec": {
   "display_name": "Python 3",
   "language": "python",
   "name": "python3"
  },
  "language_info": {
   "codemirror_mode": {
    "name": "ipython",
    "version": 3
   },
   "file_extension": ".py",
   "mimetype": "text/x-python",
   "name": "python",
   "nbconvert_exporter": "python",
   "pygments_lexer": "ipython3",
   "version": "3.9.6"
  }
 },
 "nbformat": 4,
 "nbformat_minor": 5
}
