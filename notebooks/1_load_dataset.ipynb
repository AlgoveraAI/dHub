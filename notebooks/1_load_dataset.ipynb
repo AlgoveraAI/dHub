{
 "cells": [
  {
   "cell_type": "code",
   "execution_count": 1,
   "id": "f09113e8",
   "metadata": {},
   "outputs": [],
   "source": [
    "import _init_paths\n",
    "from datasets import Datasets\n",
    "from datasets import list_files\n",
    "from user import User"
   ]
  },
  {
   "cell_type": "code",
   "execution_count": 2,
   "id": "ffcc530d",
   "metadata": {},
   "outputs": [],
   "source": [
    "user = User(\"config.ini\")"
   ]
  },
  {
   "cell_type": "code",
   "execution_count": 3,
   "id": "f5975fd5",
   "metadata": {},
   "outputs": [
    {
     "name": "stdout",
     "output_type": "stream",
     "text": [
      "ETH balance = '0.567412063869473167'\n",
      "OCEAN balance = '2714.234669402668293443'\n"
     ]
    }
   ],
   "source": [
    "user.check_wallet()"
   ]
  },
  {
   "cell_type": "code",
   "execution_count": 4,
   "id": "46f50534",
   "metadata": {},
   "outputs": [],
   "source": [
    "datasets = Datasets(user)"
   ]
  },
  {
   "cell_type": "code",
   "execution_count": 5,
   "id": "6b120068",
   "metadata": {},
   "outputs": [
    {
     "name": "stdout",
     "output_type": "stream",
     "text": [
      "AlgoveraAI/CryptoPunks\n"
     ]
    }
   ],
   "source": [
    "datasets.ls()"
   ]
  },
  {
   "cell_type": "code",
   "execution_count": 6,
   "id": "ad7d1491",
   "metadata": {},
   "outputs": [
    {
     "name": "stdout",
     "output_type": "stream",
     "text": [
      "Data token info = '{'address': '0xC9D0568838fa670baEe7195Ea443b32EfCAc2281', 'name': 'Powerful Shark Token', 'symbol': 'POWSHA-38', 'decimals': 18, 'cap': 1000.0}'\n",
      "Dataset name = 'CryptoPunks Images'\n"
     ]
    }
   ],
   "source": [
    "dataset = datasets.load_dataset(\"AlgoveraAI/CryptoPunks\")"
   ]
  },
  {
   "cell_type": "code",
   "execution_count": 7,
   "id": "f66d3b34",
   "metadata": {},
   "outputs": [],
   "source": [
    "sample_link = dataset.get_sample_link()"
   ]
  },
  {
   "cell_type": "code",
   "execution_count": 8,
   "id": "b26d45e3",
   "metadata": {},
   "outputs": [],
   "source": [
    "out = dataset.untar_sample_data()"
   ]
  },
  {
   "cell_type": "code",
   "execution_count": 9,
   "id": "4e76dc5d",
   "metadata": {},
   "outputs": [
    {
     "name": "stdout",
     "output_type": "stream",
     "text": [
      "Listing files...\n",
      " punks-sample\n",
      "--- tealpunks\n",
      "------ 0.png\n",
      "------ 1.png\n",
      "--- clearbackgroundpunks\n",
      "------ 0.png\n",
      "------ 1.png\n",
      "--- punks-sample\n",
      "------ tealpunks\n",
      "--------- 0.png\n",
      "--------- 1.png\n",
      "------ clearbackgroundpunks\n",
      "--------- 0.png\n",
      "--------- 1.png\n"
     ]
    }
   ],
   "source": [
    "list_files(out)"
   ]
  },
  {
   "cell_type": "code",
   "execution_count": null,
   "id": "bbfbcf4e",
   "metadata": {},
   "outputs": [],
   "source": []
  },
  {
   "cell_type": "code",
   "execution_count": null,
   "id": "98bbc9e5",
   "metadata": {},
   "outputs": [],
   "source": []
  }
 ],
 "metadata": {
  "kernelspec": {
   "display_name": "Python 3",
   "language": "python",
   "name": "python3"
  },
  "language_info": {
   "codemirror_mode": {
    "name": "ipython",
    "version": 3
   },
   "file_extension": ".py",
   "mimetype": "text/x-python",
   "name": "python",
   "nbconvert_exporter": "python",
   "pygments_lexer": "ipython3",
   "version": "3.9.6"
  }
 },
 "nbformat": 4,
 "nbformat_minor": 5
}
