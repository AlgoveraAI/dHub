{
 "cells": [
  {
   "cell_type": "code",
   "execution_count": null,
   "id": "f09113e8",
   "metadata": {},
   "outputs": [],
   "source": [
    "import _init_paths\n",
    "from algovera.algorithms import create_model\n",
    "from algovera.algorithms.ocean import OceanAlgorithms\n",
    "from algovera.datasets import create_dataset\n",
    "from algovera.datasets.ocean import OceanDatasets\n",
    "from algovera.utils import list_files"
   ]
  },
  {
   "cell_type": "code",
   "execution_count": null,
   "id": "840276ec",
   "metadata": {},
   "outputs": [],
   "source": []
  },
  {
   "cell_type": "code",
   "execution_count": null,
   "id": "66171b70",
   "metadata": {},
   "outputs": [],
   "source": [
    "dataset = create_dataset(\"AlgoveraAI/cryptopunks\")"
   ]
  },
  {
   "cell_type": "code",
   "execution_count": null,
   "id": "f7a773d8",
   "metadata": {},
   "outputs": [],
   "source": []
  },
  {
   "cell_type": "code",
   "execution_count": null,
   "id": "ee073f49",
   "metadata": {},
   "outputs": [],
   "source": [
    "datasets = OceanDatasets()"
   ]
  },
  {
   "cell_type": "code",
   "execution_count": null,
   "id": "6b120068",
   "metadata": {},
   "outputs": [],
   "source": [
    "datasets.ls()"
   ]
  },
  {
   "cell_type": "code",
   "execution_count": null,
   "id": "ad7d1491",
   "metadata": {},
   "outputs": [],
   "source": [
    "dataset = datasets.load_dataset(\"AlgoveraAI/cryptopunks\")"
   ]
  },
  {
   "cell_type": "code",
   "execution_count": null,
   "id": "b1bcf64c",
   "metadata": {},
   "outputs": [],
   "source": [
    "# out_dir = dataset.untar_sample_data()"
   ]
  },
  {
   "cell_type": "code",
   "execution_count": null,
   "id": "c103ecc7",
   "metadata": {},
   "outputs": [],
   "source": [
    "# list_files(out_dir)"
   ]
  },
  {
   "cell_type": "code",
   "execution_count": null,
   "id": "4c27e272",
   "metadata": {},
   "outputs": [],
   "source": []
  },
  {
   "cell_type": "code",
   "execution_count": null,
   "id": "58dccf6d",
   "metadata": {},
   "outputs": [],
   "source": [
    "algorithms = OceanAlgorithms()"
   ]
  },
  {
   "cell_type": "code",
   "execution_count": null,
   "id": "6112372d",
   "metadata": {},
   "outputs": [],
   "source": [
    "algorithms.ls()"
   ]
  },
  {
   "cell_type": "code",
   "execution_count": null,
   "id": "bb66ea30",
   "metadata": {},
   "outputs": [],
   "source": [
    "algorithm = algorithms.load_algorithm(\"AlgoveraAI/dcgan\")"
   ]
  },
  {
   "cell_type": "code",
   "execution_count": null,
   "id": "bbb64d89",
   "metadata": {},
   "outputs": [],
   "source": []
  },
  {
   "cell_type": "code",
   "execution_count": null,
   "id": "9f93afbe",
   "metadata": {},
   "outputs": [],
   "source": [
    "user.check_wallet()"
   ]
  },
  {
   "cell_type": "code",
   "execution_count": null,
   "id": "14e1ddbb",
   "metadata": {},
   "outputs": [],
   "source": []
  }
 ],
 "metadata": {
  "kernelspec": {
   "display_name": "Python 3",
   "language": "python",
   "name": "python3"
  },
  "language_info": {
   "codemirror_mode": {
    "name": "ipython",
    "version": 3
   },
   "file_extension": ".py",
   "mimetype": "text/x-python",
   "name": "python",
   "nbconvert_exporter": "python",
   "pygments_lexer": "ipython3",
   "version": "3.9.6"
  }
 },
 "nbformat": 4,
 "nbformat_minor": 5
}
