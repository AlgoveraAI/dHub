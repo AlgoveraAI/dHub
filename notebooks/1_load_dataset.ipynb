{
 "cells": [
  {
   "cell_type": "code",
   "execution_count": 1,
   "id": "f09113e8",
   "metadata": {},
   "outputs": [
    {
     "name": "stderr",
     "output_type": "stream",
     "text": [
      "/home/richard/code/deHub/venv/lib/python3.9/site-packages/tqdm/auto.py:22: TqdmWarning: IProgress not found. Please update jupyter and ipywidgets. See https://ipywidgets.readthedocs.io/en/stable/user_install.html\n",
      "  from .autonotebook import tqdm as notebook_tqdm\n"
     ]
    }
   ],
   "source": [
    "from hub import Dataset\n",
    "\n",
    "import _init_paths\n",
    "from deHub.core.datasets.factory import list_datasets\n",
    "from deHub.core.algorithms import create_algorithm\n",
    "from deHub.core.algorithms.ocean import OceanAlgorithms\n",
    "from deHub.core.datasets import create_dataset\n",
    "from deHub.core.utils import list_files"
   ]
  },
  {
   "cell_type": "code",
   "execution_count": null,
   "id": "895cb68d",
   "metadata": {},
   "outputs": [],
   "source": []
  },
  {
   "cell_type": "code",
   "execution_count": null,
   "id": "840276ec",
   "metadata": {},
   "outputs": [],
   "source": []
  },
  {
   "cell_type": "code",
   "execution_count": 2,
   "id": "0046679e",
   "metadata": {},
   "outputs": [],
   "source": [
    "ocean_dataset_path = \"ocean:AlgoveraAI/cryptopunks\"\n",
    "hf_dataset_path = \"hf_hub:AlgoveraAI/cryptopunks\"\n",
    "hub_dataset_path = \"hub://activeloop/mnist-train\""
   ]
  },
  {
   "cell_type": "code",
   "execution_count": null,
   "id": "6341488b",
   "metadata": {},
   "outputs": [],
   "source": []
  },
  {
   "cell_type": "code",
   "execution_count": null,
   "id": "90871a1f",
   "metadata": {},
   "outputs": [],
   "source": []
  },
  {
   "cell_type": "code",
   "execution_count": 3,
   "id": "66171b70",
   "metadata": {},
   "outputs": [],
   "source": [
    "ocean_dataset = create_dataset(ocean_dataset_path)"
   ]
  },
  {
   "cell_type": "code",
   "execution_count": null,
   "id": "f7a773d8",
   "metadata": {},
   "outputs": [],
   "source": []
  },
  {
   "cell_type": "code",
   "execution_count": 4,
   "id": "0aa3175f",
   "metadata": {},
   "outputs": [],
   "source": [
    "# hf_dataset = create_dataset(hf_dataset_path)"
   ]
  },
  {
   "cell_type": "code",
   "execution_count": 5,
   "id": "2b8512ae",
   "metadata": {},
   "outputs": [
    {
     "name": "stdout",
     "output_type": "stream",
     "text": [
      "Opening dataset in read-only mode as you don't have write permissions.\n",
      "hub://activeloop/mnist-train loaded successfully.\n",
      "This dataset can be visualized at https://app.activeloop.ai/activeloop/mnist-train.\n"
     ]
    }
   ],
   "source": [
    "hub_dataset = create_dataset(hub_dataset_path)"
   ]
  },
  {
   "cell_type": "code",
   "execution_count": 6,
   "id": "e4aa78e7",
   "metadata": {},
   "outputs": [
    {
     "data": {
      "text/plain": [
       "Dataset(path='hub://activeloop/mnist-train', read_only=True, tensors=['images', 'labels'])"
      ]
     },
     "execution_count": 6,
     "metadata": {},
     "output_type": "execute_result"
    }
   ],
   "source": [
    "hub_dataset"
   ]
  },
  {
   "cell_type": "code",
   "execution_count": null,
   "id": "b1f29acc",
   "metadata": {},
   "outputs": [],
   "source": []
  },
  {
   "cell_type": "code",
   "execution_count": 7,
   "id": "fa71043d",
   "metadata": {},
   "outputs": [
    {
     "data": {
      "text/plain": [
       "['AlgoveraAI/coco',\n",
       " 'AlgoveraAI/cryptopunks',\n",
       " 'AlgoveraAI/cryptopunks-download',\n",
       " 'AlgoveraAI/imagenette',\n",
       " 'LYNX/eeg',\n",
       " 'nCight/arthroscopic']"
      ]
     },
     "execution_count": 7,
     "metadata": {},
     "output_type": "execute_result"
    }
   ],
   "source": [
    "list_datasets('ocean')"
   ]
  },
  {
   "cell_type": "code",
   "execution_count": 8,
   "id": "ea9c588c",
   "metadata": {},
   "outputs": [
    {
     "name": "stdout",
     "output_type": "stream",
     "text": [
      "You are not a member of organization \"activeloop\". List of accessible datasets from \"activeloop\": \n"
     ]
    },
    {
     "data": {
      "text/plain": [
       "['activeloop/fashion-mnist-train',\n",
       " 'activeloop/kmnist-train',\n",
       " 'activeloop/fashion-mnist-test',\n",
       " 'activeloop/k49-train',\n",
       " 'activeloop/kmnist-test',\n",
       " 'activeloop/mnist-train',\n",
       " 'activeloop/k49-test',\n",
       " 'activeloop/cifar10-train',\n",
       " 'activeloop/emnist-balanced-train',\n",
       " 'activeloop/emnist-byclass-test',\n",
       " 'activeloop/cifar100-train',\n",
       " 'activeloop/emnist-bymerge-test',\n",
       " 'activeloop/mnist-test',\n",
       " 'activeloop/cifar100-test',\n",
       " 'activeloop/emnist-bymerge-train',\n",
       " 'activeloop/cifar10-test',\n",
       " 'activeloop/emnist-balanced-test',\n",
       " 'activeloop/emnist-byclass-train',\n",
       " 'activeloop/emnist-digits-test',\n",
       " 'activeloop/caltech_birds2011_tfds',\n",
       " 'activeloop/emnist-letters-train',\n",
       " 'activeloop/emnist-mnist-test',\n",
       " 'activeloop/emnist-mnist-train',\n",
       " 'activeloop/emnist-letters-test',\n",
       " 'activeloop/emnist-digits-train',\n",
       " 'activeloop/cifar10_corrupted',\n",
       " 'activeloop/objectron_book_test',\n",
       " 'activeloop/objectron_bike_train',\n",
       " 'activeloop/objectron_book_train',\n",
       " 'activeloop/objectron_bike_test',\n",
       " 'activeloop/objectron_bottle_test',\n",
       " 'activeloop/objectron_camera_test',\n",
       " 'activeloop/objectron_cereal_box_test',\n",
       " 'activeloop/objectron_chair_test',\n",
       " 'activeloop/objectron_cup_test',\n",
       " 'activeloop/objectron_shoe_test',\n",
       " 'activeloop/objectron_laptop_test',\n",
       " 'activeloop/objectron_cereal_box_train',\n",
       " 'activeloop/objectron_cup_train',\n",
       " 'activeloop/objectron_chair_train',\n",
       " 'activeloop/objectron_bottle_train',\n",
       " 'activeloop/objectron_laptop_train',\n",
       " 'activeloop/objectron_shoe_train',\n",
       " 'activeloop/objectron_camera_train',\n",
       " 'activeloop/wham_test',\n",
       " 'activeloop/wham_validation',\n",
       " 'activeloop/wham_train',\n",
       " 'activeloop/imagenet-train',\n",
       " 'activeloop/spoken_mnist',\n",
       " 'activeloop/imagenet-val',\n",
       " 'activeloop/imagenet-test',\n",
       " 'activeloop/coco-train',\n",
       " 'activeloop/coco-val',\n",
       " 'activeloop/stl10-train',\n",
       " 'activeloop/stl10-test',\n",
       " 'activeloop/stl10-unlabeled',\n",
       " 'activeloop/kuzushiji-kanji',\n",
       " 'activeloop/fashionpedia-train',\n",
       " 'activeloop/fashionpedia-val',\n",
       " 'activeloop/coco-test',\n",
       " 'activeloop/caltech256',\n",
       " 'activeloop/11k-hands',\n",
       " 'activeloop/hockey-fights',\n",
       " 'activeloop/celeb-a-train',\n",
       " 'activeloop/celeb-a-test',\n",
       " 'activeloop/celeb-a-val',\n",
       " 'activeloop/hasy-train',\n",
       " 'activeloop/hasy-test',\n",
       " 'activeloop/places205',\n",
       " 'activeloop/davis2017-train',\n",
       " 'activeloop/gtzan-genre',\n",
       " 'activeloop/ravdess-emotional-speech-audio',\n",
       " 'activeloop/gtzan-music-speech',\n",
       " 'activeloop/stanford-cars',\n",
       " 'activeloop/stanford-cars-test',\n",
       " 'activeloop/arid-video-action-train',\n",
       " 'activeloop/stanford-cars-train',\n",
       " 'activeloop/arid-video-action-test',\n",
       " 'activeloop/daisee-train',\n",
       " 'activeloop/swag-train',\n",
       " 'activeloop/pacs-train',\n",
       " 'activeloop/pacs-test',\n",
       " 'activeloop/pacs-val',\n",
       " 'activeloop/daisee-test',\n",
       " 'activeloop/domainnet-painting-test',\n",
       " 'activeloop/domainnet-clipart-test',\n",
       " 'activeloop/domainnet-clipart-train',\n",
       " 'activeloop/domainnet-painting-train',\n",
       " 'activeloop/domainnet-infograph-train',\n",
       " 'activeloop/animal10n-train',\n",
       " 'activeloop/domainnet-infograph-test',\n",
       " 'activeloop/atis-train',\n",
       " 'activeloop/atis-test',\n",
       " 'activeloop/domainnet-quickdraw-train',\n",
       " 'activeloop/domainnet-real-train',\n",
       " 'activeloop/domainnet-sketch-train',\n",
       " 'activeloop/domainnet-sketch-test',\n",
       " 'activeloop/domainnet-quickdraw-test',\n",
       " 'activeloop/gtsrb-train',\n",
       " 'activeloop/domainnet-real-test',\n",
       " 'activeloop/gtsrb-test',\n",
       " 'activeloop/timit-train',\n",
       " 'activeloop/timit-test',\n",
       " 'activeloop/face_mask_detection',\n",
       " 'activeloop/tiny-imagenet-train',\n",
       " 'activeloop/tiny-imagenet-test',\n",
       " 'activeloop/tiny-imagenet-validation',\n",
       " 'activeloop/vctk',\n",
       " 'activeloop/sentiment-140-train',\n",
       " 'activeloop/sentiment-140-test',\n",
       " 'activeloop/usps-test',\n",
       " 'activeloop/usps-train',\n",
       " 'activeloop/mura-train',\n",
       " 'activeloop/squad-train',\n",
       " 'activeloop/squad-val',\n",
       " 'activeloop/ppm100',\n",
       " 'activeloop/svhn-train',\n",
       " 'activeloop/fer2013-train',\n",
       " 'activeloop/svhn-extra',\n",
       " 'activeloop/svhn-test',\n",
       " 'activeloop/lfw-deep-funneled',\n",
       " 'activeloop/lfw',\n",
       " 'activeloop/lincolnbeet-train',\n",
       " 'activeloop/lfw-funneled',\n",
       " 'activeloop/lincolnbeet-test',\n",
       " 'activeloop/lincolnbeet-val',\n",
       " 'activeloop/office-home-domain-adaptation',\n",
       " 'activeloop/utzappo',\n",
       " 'activeloop/swag-test',\n",
       " 'activeloop/swag-val',\n",
       " 'activeloop/ham10000',\n",
       " 'activeloop/food-101-dataset-train',\n",
       " 'activeloop/optical-handwritten-digits-train',\n",
       " 'activeloop/plantvillage-with-augmentation',\n",
       " 'activeloop/drive-train',\n",
       " 'activeloop/drive-test',\n",
       " 'activeloop/plantvillage-without-augmentation',\n",
       " 'activeloop/reside',\n",
       " 'activeloop/caltech101',\n",
       " 'activeloop/lsp-train',\n",
       " 'activeloop/aqua-train',\n",
       " 'activeloop/adience-fold-frontal-faces',\n",
       " 'activeloop/aqua-test',\n",
       " 'activeloop/aqua-valid',\n",
       " 'activeloop/aqua-val',\n",
       " 'activeloop/liar-train',\n",
       " 'activeloop/liar-test',\n",
       " 'activeloop/liar-val',\n",
       " 'activeloop/stn-plad',\n",
       " 'activeloop/speech-commands-train',\n",
       " 'activeloop/nabirds-dataset-train',\n",
       " 'activeloop/speech-commands-test',\n",
       " 'activeloop/nabirds-dataset-val',\n",
       " 'activeloop/wflw-train',\n",
       " 'activeloop/wflw-test',\n",
       " 'activeloop/visdrone-det-train',\n",
       " 'activeloop/visdrone-det-test',\n",
       " 'activeloop/visdrone-det-val',\n",
       " 'activeloop/visdrone-det-test-dev',\n",
       " 'activeloop/cssd',\n",
       " 'activeloop/ecssd',\n",
       " 'activeloop/glas-train',\n",
       " 'activeloop/esc50',\n",
       " 'activeloop/nsynth-train',\n",
       " 'activeloop/not-mnist-small',\n",
       " 'activeloop/not-mnist-large',\n",
       " 'activeloop/nsynth-val',\n",
       " 'activeloop/nsynth-test',\n",
       " 'activeloop/coco-text-train',\n",
       " 'activeloop/hico-classification-test',\n",
       " 'activeloop/icons50',\n",
       " 'activeloop/hico-classification-train',\n",
       " 'activeloop/lowlight-train',\n",
       " 'activeloop/lowlight-val',\n",
       " 'activeloop/wider-face-train',\n",
       " 'activeloop/wider-face-val',\n",
       " 'activeloop/wider-face-test',\n",
       " 'activeloop/300w',\n",
       " 'activeloop/AFW',\n",
       " 'activeloop/LFPW-train',\n",
       " 'activeloop/LFPW-test',\n",
       " 'activeloop/FGNET',\n",
       " 'activeloop/carpk-train',\n",
       " 'activeloop/carpk-test',\n",
       " 'activeloop/icdar-2013-text-localize-train',\n",
       " 'activeloop/pascal-voc-2007-train-val',\n",
       " 'activeloop/nih-chest-xray-train',\n",
       " 'activeloop/chest-xray-val',\n",
       " 'activeloop/chest-xray-test',\n",
       " 'activeloop/chest-xray-train',\n",
       " 'activeloop/omniglot-images-strokes-train',\n",
       " 'activeloop/omniglot-images-strokes-val',\n",
       " 'activeloop/pascal-voc-2007-test',\n",
       " 'activeloop/pascal-voc-2012-train-val',\n",
       " 'activeloop/pascal-voc-2012-test',\n",
       " 'activeloop/icdar-2013-segmentation-train',\n",
       " 'activeloop/icdar-2013-segmentation-test',\n",
       " 'activeloop/icdar-2013-text-localize-test',\n",
       " 'activeloop/icdar-2013-word-recognition-train',\n",
       " 'activeloop/icdar-2013-word-recognition-test',\n",
       " 'activeloop/lsp-test',\n",
       " 'activeloop/animal-pose-keypoint-unlabeled',\n",
       " 'activeloop/aerial-demo',\n",
       " 'activeloop/fgnet',\n",
       " 'activeloop/rembrandt',\n",
       " 'activeloop/domainnet-info-train',\n",
       " 'activeloop/domainnet-info-test',\n",
       " 'activeloop/domainnet-quick-train',\n",
       " 'activeloop/domainnet-paint-train',\n",
       " 'activeloop/domainnet-clip-train',\n",
       " 'activeloop/domainnet-clip-test',\n",
       " 'activeloop/domainnet-paint-test',\n",
       " 'activeloop/domainnet-quick-test',\n",
       " 'activeloop/pucpr-test',\n",
       " 'activeloop/pucpr-train',\n",
       " 'activeloop/lsp-extended',\n",
       " 'activeloop/kaggle-cats-dogs',\n",
       " 'activeloop/mars-train',\n",
       " 'activeloop/mars-test']"
      ]
     },
     "execution_count": 8,
     "metadata": {},
     "output_type": "execute_result"
    }
   ],
   "source": [
    "list_datasets('activeloop')"
   ]
  },
  {
   "cell_type": "code",
   "execution_count": null,
   "id": "31708887",
   "metadata": {},
   "outputs": [],
   "source": []
  },
  {
   "cell_type": "code",
   "execution_count": null,
   "id": "08895f8f",
   "metadata": {},
   "outputs": [],
   "source": []
  },
  {
   "cell_type": "code",
   "execution_count": null,
   "id": "ee073f49",
   "metadata": {},
   "outputs": [],
   "source": [
    "datasets = OceanDatasets()"
   ]
  },
  {
   "cell_type": "code",
   "execution_count": null,
   "id": "6b120068",
   "metadata": {},
   "outputs": [],
   "source": [
    "datasets.ls()"
   ]
  },
  {
   "cell_type": "code",
   "execution_count": null,
   "id": "ad7d1491",
   "metadata": {},
   "outputs": [],
   "source": [
    "dataset = datasets.load_dataset(\"AlgoveraAI/cryptopunks\")"
   ]
  },
  {
   "cell_type": "code",
   "execution_count": null,
   "id": "b1bcf64c",
   "metadata": {},
   "outputs": [],
   "source": [
    "# out_dir = dataset.untar_sample_data()"
   ]
  },
  {
   "cell_type": "code",
   "execution_count": null,
   "id": "c103ecc7",
   "metadata": {},
   "outputs": [],
   "source": [
    "# list_files(out_dir)"
   ]
  },
  {
   "cell_type": "code",
   "execution_count": null,
   "id": "4c27e272",
   "metadata": {},
   "outputs": [],
   "source": []
  },
  {
   "cell_type": "code",
   "execution_count": null,
   "id": "58dccf6d",
   "metadata": {},
   "outputs": [],
   "source": [
    "algorithms = OceanAlgorithms()"
   ]
  },
  {
   "cell_type": "code",
   "execution_count": null,
   "id": "6112372d",
   "metadata": {},
   "outputs": [],
   "source": [
    "algorithms.ls()"
   ]
  },
  {
   "cell_type": "code",
   "execution_count": null,
   "id": "bb66ea30",
   "metadata": {},
   "outputs": [],
   "source": [
    "algorithm = algorithms.load_algorithm(\"AlgoveraAI/dcgan\")"
   ]
  },
  {
   "cell_type": "code",
   "execution_count": null,
   "id": "bbb64d89",
   "metadata": {},
   "outputs": [],
   "source": []
  },
  {
   "cell_type": "code",
   "execution_count": null,
   "id": "14e1ddbb",
   "metadata": {},
   "outputs": [],
   "source": []
  }
 ],
 "metadata": {
  "kernelspec": {
   "display_name": "Python 3",
   "language": "python",
   "name": "python3"
  },
  "language_info": {
   "codemirror_mode": {
    "name": "ipython",
    "version": 3
   },
   "file_extension": ".py",
   "mimetype": "text/x-python",
   "name": "python",
   "nbconvert_exporter": "python",
   "pygments_lexer": "ipython3",
   "version": "3.9.6"
  }
 },
 "nbformat": 4,
 "nbformat_minor": 5
}
