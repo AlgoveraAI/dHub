{
 "cells": [
  {
   "cell_type": "code",
   "execution_count": 1,
   "id": "f09113e8",
   "metadata": {},
   "outputs": [
    {
     "name": "stderr",
     "output_type": "stream",
     "text": [
      "/home/richard/code/deHub/venv/lib/python3.9/site-packages/tqdm/auto.py:22: TqdmWarning: IProgress not found. Please update jupyter and ipywidgets. See https://ipywidgets.readthedocs.io/en/stable/user_install.html\n",
      "  from .autonotebook import tqdm as notebook_tqdm\n"
     ]
    }
   ],
   "source": [
    "from hub import Dataset\n",
    "\n",
    "import _init_paths\n",
    "from deHub.core.algorithms import create_algorithm\n",
    "from deHub.core.algorithms.ocean import OceanAlgorithms\n",
    "from deHub.core.datasets import create_dataset\n",
    "from deHub.core.datasets.ocean import OceanDatasets\n",
    "from deHub.core.utils import list_files"
   ]
  },
  {
   "cell_type": "code",
   "execution_count": null,
   "id": "840276ec",
   "metadata": {},
   "outputs": [],
   "source": []
  },
  {
   "cell_type": "code",
   "execution_count": 2,
   "id": "e125be9c",
   "metadata": {},
   "outputs": [],
   "source": [
    "ocean_dataset_path = \"ocean:AlgoveraAI/cryptopunks\"\n",
    "hf_dataset_path = \"hf_hub:AlgoveraAI/cryptopunks\"\n",
    "hub_dataset_path = \"hub://activeloop/mnist-train\""
   ]
  },
  {
   "cell_type": "code",
   "execution_count": null,
   "id": "07fbcde9",
   "metadata": {},
   "outputs": [],
   "source": []
  },
  {
   "cell_type": "code",
   "execution_count": null,
   "id": "e4e9560f",
   "metadata": {},
   "outputs": [],
   "source": []
  },
  {
   "cell_type": "code",
   "execution_count": null,
   "id": "66171b70",
   "metadata": {},
   "outputs": [],
   "source": [
    "ocean_dataset = create_dataset(ocean_dataset_path)"
   ]
  },
  {
   "cell_type": "code",
   "execution_count": null,
   "id": "f7a773d8",
   "metadata": {},
   "outputs": [],
   "source": []
  },
  {
   "cell_type": "code",
   "execution_count": null,
   "id": "0aa3175f",
   "metadata": {},
   "outputs": [],
   "source": [
    "hf_dataset = create_dataset(hf_dataset_path)"
   ]
  },
  {
   "cell_type": "code",
   "execution_count": 3,
   "id": "2b8512ae",
   "metadata": {},
   "outputs": [
    {
     "name": "stdout",
     "output_type": "stream",
     "text": [
      "Opening dataset in read-only mode as you don't have write permissions.\n",
      "hub://activeloop/mnist-train loaded successfully.\n",
      "This dataset can be visualized at https://app.activeloop.ai/activeloop/mnist-train.\n"
     ]
    }
   ],
   "source": [
    "hub_dataset = create_dataset(hub_dataset_path)"
   ]
  },
  {
   "cell_type": "code",
   "execution_count": 4,
   "id": "d942b8d7",
   "metadata": {},
   "outputs": [
    {
     "data": {
      "text/plain": [
       "Dataset(path='hub://activeloop/mnist-train', read_only=True, tensors=['images', 'labels'])"
      ]
     },
     "execution_count": 4,
     "metadata": {},
     "output_type": "execute_result"
    }
   ],
   "source": [
    "hub_dataset"
   ]
  },
  {
   "cell_type": "code",
   "execution_count": null,
   "id": "08895f8f",
   "metadata": {},
   "outputs": [],
   "source": []
  },
  {
   "cell_type": "code",
   "execution_count": null,
   "id": "ee073f49",
   "metadata": {},
   "outputs": [],
   "source": [
    "datasets = OceanDatasets()"
   ]
  },
  {
   "cell_type": "code",
   "execution_count": null,
   "id": "6b120068",
   "metadata": {},
   "outputs": [],
   "source": [
    "datasets.ls()"
   ]
  },
  {
   "cell_type": "code",
   "execution_count": null,
   "id": "ad7d1491",
   "metadata": {},
   "outputs": [],
   "source": [
    "dataset = datasets.load_dataset(\"AlgoveraAI/cryptopunks\")"
   ]
  },
  {
   "cell_type": "code",
   "execution_count": null,
   "id": "b1bcf64c",
   "metadata": {},
   "outputs": [],
   "source": [
    "# out_dir = dataset.untar_sample_data()"
   ]
  },
  {
   "cell_type": "code",
   "execution_count": null,
   "id": "c103ecc7",
   "metadata": {},
   "outputs": [],
   "source": [
    "# list_files(out_dir)"
   ]
  },
  {
   "cell_type": "code",
   "execution_count": null,
   "id": "4c27e272",
   "metadata": {},
   "outputs": [],
   "source": []
  },
  {
   "cell_type": "code",
   "execution_count": null,
   "id": "58dccf6d",
   "metadata": {},
   "outputs": [],
   "source": [
    "algorithms = OceanAlgorithms()"
   ]
  },
  {
   "cell_type": "code",
   "execution_count": null,
   "id": "6112372d",
   "metadata": {},
   "outputs": [],
   "source": [
    "algorithms.ls()"
   ]
  },
  {
   "cell_type": "code",
   "execution_count": null,
   "id": "bb66ea30",
   "metadata": {},
   "outputs": [],
   "source": [
    "algorithm = algorithms.load_algorithm(\"AlgoveraAI/dcgan\")"
   ]
  },
  {
   "cell_type": "code",
   "execution_count": null,
   "id": "bbb64d89",
   "metadata": {},
   "outputs": [],
   "source": []
  },
  {
   "cell_type": "code",
   "execution_count": null,
   "id": "14e1ddbb",
   "metadata": {},
   "outputs": [],
   "source": []
  }
 ],
 "metadata": {
  "kernelspec": {
   "display_name": "Python 3",
   "language": "python",
   "name": "python3"
  },
  "language_info": {
   "codemirror_mode": {
    "name": "ipython",
    "version": 3
   },
   "file_extension": ".py",
   "mimetype": "text/x-python",
   "name": "python",
   "nbconvert_exporter": "python",
   "pygments_lexer": "ipython3",
   "version": "3.9.6"
  }
 },
 "nbformat": 4,
 "nbformat_minor": 5
}
