{
 "cells": [
  {
   "cell_type": "code",
   "execution_count": null,
   "id": "f09113e8",
   "metadata": {},
   "outputs": [],
   "source": [
    "from pathlib import Path\n",
    "\n",
    "import _init_paths\n",
    "import dhub"
   ]
  },
  {
   "cell_type": "markdown",
   "id": "7230f866",
   "metadata": {},
   "source": [
    "## Login"
   ]
  },
  {
   "cell_type": "code",
   "execution_count": null,
   "id": "055d14a4",
   "metadata": {},
   "outputs": [],
   "source": [
    "# Coming Soon\n",
    "# user = dhub.login(os.getenv('MY_TEST_KEY'))"
   ]
  },
  {
   "cell_type": "markdown",
   "id": "419a574d",
   "metadata": {},
   "source": [
    "## Create Algorithm"
   ]
  },
  {
   "cell_type": "markdown",
   "id": "c40f75a4",
   "metadata": {},
   "source": [
    "Imagine you are a data scientist that has an algorithm and model weights that you would like to monetize. The dHub library can be used to encrypt and upload the model weights to HuggingFace Hub, and create a token-gated algorithm on the Ocean marketplace to facilitate testing of the model."
   ]
  },
  {
   "cell_type": "code",
   "execution_count": null,
   "id": "e8f745a6",
   "metadata": {},
   "outputs": [],
   "source": [
    "weights_path = \"netG.pth\""
   ]
  },
  {
   "cell_type": "code",
   "execution_count": null,
   "id": "4a24c68d",
   "metadata": {},
   "outputs": [],
   "source": [
    "local_dir = '/home/richard/code/creations/algorithms/dcgan-cryptopunks'\n",
    "algorithm_url = 'https://github.com/AlgoveraAI/creations/blob/main/algorithms/dcgan-cryptopunks/dcgan-cryptopunks-inference.py'"
   ]
  },
  {
   "cell_type": "code",
   "execution_count": null,
   "id": "2ef3f740",
   "metadata": {},
   "outputs": [],
   "source": [
    "algorithm = dhub.create_algorithm(weights_path, local_dir, algorithm_url)"
   ]
  },
  {
   "cell_type": "markdown",
   "id": "dc124125",
   "metadata": {},
   "source": [
    "When dhub.create_algorithm is called, the model weights are encrypted. A repo is then created on HuggingFace and the encrypted weights are pushed to the repo. An algorithm is then published to the Ocean Marketplace that requires an access token to run. For example, tokens can be purchased through the Ocean marketplace [app](https://market.oceanprotocol.com/). This algorithm loads and decrypts the weights, before running inference of the model. You can see an example of a [model](https://huggingface.co/AlgoveraAI/dcgan-cryptopunks/tree/main) on HuggingFace Hub and [algorithm](https://market.oceanprotocol.com/asset/did:op:0D5Cb1a89b568c2Cf2A473F89394924B733A36Ed) on Ocean Protocol that were created using dHub."
   ]
  },
  {
   "cell_type": "markdown",
   "id": "dcb744c2",
   "metadata": {},
   "source": [
    "If you only wish to upload model weights to HuggingFace, you can use:"
   ]
  },
  {
   "cell_type": "code",
   "execution_count": null,
   "id": "840276ec",
   "metadata": {},
   "outputs": [],
   "source": [
    "# dhub.create_model(weights_path, local_dir)"
   ]
  },
  {
   "cell_type": "markdown",
   "id": "7f785f7b",
   "metadata": {},
   "source": [
    "## List Datasets"
   ]
  },
  {
   "cell_type": "markdown",
   "id": "90e69359",
   "metadata": {},
   "source": [
    "Return a list of datasets available for a particular library in dHub. The options available are ‘ocean’, ‘hf-hub’ and ‘al-hub’. Use ‘ocean’ to explore datasets and algorithms on Ocean Protocol’s data marketplace. ‘hf-hub’ can be used to explore machine learning datasets and models for natural language processing on HuggingFace Hub. Finally, use ‘al-hub’ to browse computer vision datasets on ActiveLoop Hub. "
   ]
  },
  {
   "cell_type": "code",
   "execution_count": null,
   "id": "dd698ba2",
   "metadata": {},
   "outputs": [],
   "source": [
    "dhub.list_datasets('ocean')"
   ]
  },
  {
   "cell_type": "markdown",
   "id": "a2a3ab00",
   "metadata": {},
   "source": [
    "## List Algorithms"
   ]
  },
  {
   "cell_type": "markdown",
   "id": "aabd5688",
   "metadata": {},
   "source": [
    "Return a list of algorithms or models available for a particular library in dHub. "
   ]
  },
  {
   "cell_type": "code",
   "execution_count": null,
   "id": "5d64c764",
   "metadata": {},
   "outputs": [],
   "source": [
    "dhub.list_algorithms('ocean')"
   ]
  },
  {
   "cell_type": "markdown",
   "id": "1839d183",
   "metadata": {},
   "source": [
    "## Load Dataset"
   ]
  },
  {
   "cell_type": "markdown",
   "id": "cc655df2",
   "metadata": {},
   "source": [
    "Load a dataset for a particular library in dHub. "
   ]
  },
  {
   "cell_type": "code",
   "execution_count": null,
   "id": "25da3945",
   "metadata": {},
   "outputs": [],
   "source": [
    "dataset = dhub.load_dataset(\"ocean:AlgoveraAI/cryptopunks\")"
   ]
  },
  {
   "cell_type": "markdown",
   "id": "00f9d4bc",
   "metadata": {},
   "source": [
    "## Load Algorithm"
   ]
  },
  {
   "cell_type": "markdown",
   "id": "c75fabb2",
   "metadata": {},
   "source": [
    "Load an algorithm for a particular library in dHub. "
   ]
  },
  {
   "cell_type": "code",
   "execution_count": null,
   "id": "204e2181",
   "metadata": {},
   "outputs": [],
   "source": [
    "algorithm = dhub.load_algorithm(\"ocean:AlgoveraAI/dcgan-cryptopunks\")"
   ]
  },
  {
   "cell_type": "markdown",
   "id": "22ddb9ea",
   "metadata": {},
   "source": [
    "## Run Inference"
   ]
  },
  {
   "cell_type": "code",
   "execution_count": null,
   "id": "3adff901",
   "metadata": {},
   "outputs": [],
   "source": [
    "result = dhub.run_inference(dataset, algorithm)"
   ]
  },
  {
   "cell_type": "code",
   "execution_count": null,
   "id": "061faa67",
   "metadata": {},
   "outputs": [],
   "source": []
  },
  {
   "cell_type": "code",
   "execution_count": null,
   "id": "08fb169f",
   "metadata": {},
   "outputs": [],
   "source": []
  }
 ],
 "metadata": {
  "kernelspec": {
   "display_name": "Python 3",
   "language": "python",
   "name": "python3"
  },
  "language_info": {
   "codemirror_mode": {
    "name": "ipython",
    "version": 3
   },
   "file_extension": ".py",
   "mimetype": "text/x-python",
   "name": "python",
   "nbconvert_exporter": "python",
   "pygments_lexer": "ipython3",
   "version": "3.9.6"
  }
 },
 "nbformat": 4,
 "nbformat_minor": 5
}
